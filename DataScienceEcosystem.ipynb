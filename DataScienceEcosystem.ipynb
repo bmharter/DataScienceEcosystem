{
 "cells": [
  {
   "cell_type": "markdown",
   "id": "4ed3856a-c624-4f76-ae45-fb5f7d3c9935",
   "metadata": {},
   "source": [
    "# Data Science Ecosystem"
   ]
  },
  {
   "cell_type": "markdown",
   "id": "b1c53f69-8d3d-4a59-a592-0590ec1b5c26",
   "metadata": {},
   "source": [
    "In this notebook, Data Science Tools and Ecosystem are summarized."
   ]
  },
  {
   "cell_type": "markdown",
   "id": "ff13f09a-71a6-40cd-b709-f8fc6a573a75",
   "metadata": {},
   "source": [
    "## Author\n",
    "Benjamin Harter"
   ]
  },
  {
   "cell_type": "markdown",
   "id": "4dbc543d-f534-4d5f-a9c4-ac449a4f7d6b",
   "metadata": {},
   "source": [
    "**Objectives:**\n",
    "* List popular languages in Data Science.\n",
    "* List popular libraries in Data Science.\n",
    "* List commonly used development environments in Data Science.\n",
    "* Demonstrate evaluating arithmetic expressions in Python."
   ]
  },
  {
   "cell_type": "markdown",
   "id": "046bdf59-3671-49c0-bcf6-5bfe5d239c65",
   "metadata": {},
   "source": [
    "Some of the popular languages that Data Scientists use are:\n",
    "1. Python\n",
    "2. R\n",
    "3. SQL"
   ]
  },
  {
   "cell_type": "markdown",
   "id": "4cfd8d8b-3f34-402c-93a3-09ba1142369b",
   "metadata": {},
   "source": [
    "Some of the commonly used libraries used by Data Scientists include:\n",
    "1. Pandas\n",
    "2. ggplot2\n",
    "3. Numpy"
   ]
  },
  {
   "cell_type": "markdown",
   "id": "559c3160-ea60-401a-be05-29da84c97338",
   "metadata": {},
   "source": [
    "|Data Science Tools|\n",
    "|------------------|\n",
    "|Jupyter Notebooks|\n",
    "|R Studio|\n",
    "|GitHub|"
   ]
  },
  {
   "cell_type": "markdown",
   "id": "14ef6809-41b5-401f-a8cc-58aacfd122b8",
   "metadata": {},
   "source": [
    "### Below are a few examples of evaluating arithmetic expressions in Python."
   ]
  },
  {
   "cell_type": "code",
   "execution_count": 3,
   "id": "a7131290-128c-46d9-96c7-cbe27644c23c",
   "metadata": {
    "tags": []
   },
   "outputs": [
    {
     "data": {
      "text/plain": [
       "17"
      ]
     },
     "execution_count": 3,
     "metadata": {},
     "output_type": "execute_result"
    }
   ],
   "source": [
    "#This a simple arithmetic expression to mutiply then add integers\n",
    "(3*4)+5"
   ]
  },
  {
   "cell_type": "code",
   "execution_count": 4,
   "id": "e3a605e4-22d1-43ed-9be4-e4377d569174",
   "metadata": {
    "tags": []
   },
   "outputs": [
    {
     "data": {
      "text/plain": [
       "3.3333333333333335"
      ]
     },
     "execution_count": 4,
     "metadata": {},
     "output_type": "execute_result"
    }
   ],
   "source": [
    "#This will convert 200 minutes to hours by diving by 60.\n",
    "200/60"
   ]
  },
  {
   "cell_type": "code",
   "execution_count": null,
   "id": "956ec293-2c13-4334-9bfe-be3f78ea53ce",
   "metadata": {},
   "outputs": [],
   "source": []
  }
 ],
 "metadata": {
  "kernelspec": {
   "display_name": "Python",
   "language": "python",
   "name": "conda-env-python-py"
  },
  "language_info": {
   "codemirror_mode": {
    "name": "ipython",
    "version": 3
   },
   "file_extension": ".py",
   "mimetype": "text/x-python",
   "name": "python",
   "nbconvert_exporter": "python",
   "pygments_lexer": "ipython3",
   "version": "3.7.12"
  }
 },
 "nbformat": 4,
 "nbformat_minor": 5
}
